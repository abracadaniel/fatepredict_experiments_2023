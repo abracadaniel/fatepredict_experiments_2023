{
 "cells": [
  {
   "cell_type": "code",
   "execution_count": 19,
   "metadata": {},
   "outputs": [],
   "source": [
    "import sys\n",
    "sys.path.append('../')\n",
    "sys.path.append('./')"
   ]
  },
  {
   "cell_type": "code",
   "execution_count": 20,
   "metadata": {},
   "outputs": [
    {
     "name": "stdout",
     "output_type": "stream",
     "text": [
      "The autoreload extension is already loaded. To reload it, use:\n",
      "  %reload_ext autoreload\n"
     ]
    }
   ],
   "source": [
    "%load_ext autoreload\n",
    "%autoreload 2\n",
    "import logging\n",
    "import multiprocessing\n",
    "import os\n",
    "import shutil\n",
    "import sys\n",
    "import time\n",
    "import types\n",
    "\n",
    "import numpy as np\n",
    "import pandas as pd\n",
    "\n",
    "from linajea.config import TrackingConfig\n",
    "import linajea.evaluation\n",
    "\n",
    "import linajea.config\n",
    "import linajea.process_blockwise\n",
    "import linajea.utils\n",
    "from blockwise.candidate_graph_blockwise import extract_edges_blockwise"
   ]
  },
  {
   "cell_type": "code",
   "execution_count": 21,
   "metadata": {},
   "outputs": [
    {
     "name": "stdout",
     "output_type": "stream",
     "text": [
      "/\n",
      " ├── .zarr\n",
      " ├── Fragment_stats\n",
      " │   ├── Position\n",
      " │   ├── Volume\n",
      " │   └── id\n",
      " ├── Fragments (3, 15, 30, 30) uint64\n",
      " ├── Merge_tree\n",
      " │   ├── Merge\n",
      " │   └── Scoring\n",
      " ├── Raw (4, 3, 15, 30, 30) float64\n",
      " └── gt_trackimage (3, 15, 30, 30) uint64\n"
     ]
    }
   ],
   "source": [
    "import zarr\n",
    "z = zarr.open ( 'anno_alice_T2030_tiny.zarr' , 'r' )\n",
    "\n",
    "fragments = z['Fragments'][:]\n",
    "raw = z['Raw'][:]\n",
    "#track = z['gt_trackimage']\n",
    "print(z.tree(level=2))"
   ]
  },
  {
   "cell_type": "code",
   "execution_count": 22,
   "metadata": {},
   "outputs": [
    {
     "name": "stdout",
     "output_type": "stream",
     "text": [
      "Current working directory: /mnt/d/Spaces/Education/00.KU/Thesis/code/fatepredict_experiments_desktop/example\n"
     ]
    }
   ],
   "source": [
    "\n",
    "# Get the current working directory\n",
    "cwd = os.getcwd()\n",
    "\n",
    "# Print the current working directory\n",
    "print(\"Current working directory:\", cwd)"
   ]
  },
  {
   "cell_type": "code",
   "execution_count": 23,
   "metadata": {},
   "outputs": [],
   "source": [
    "config_file = 'config.toml'\n",
    "config = TrackingConfig.from_file(config_file)"
   ]
  },
  {
   "cell_type": "code",
   "execution_count": 24,
   "metadata": {},
   "outputs": [
    {
     "data": {
      "application/vnd.jupyter.widget-view+json": {
       "model_id": "48ea42aecf3b4a65bfc57a6198f56dd2",
       "version_major": 2,
       "version_minor": 0
      },
      "text/plain": [
       "cabdidategraph_extract_edges ▶:   0%|          | 0/4 [00:00<?, ?blocks/s]"
      ]
     },
     "metadata": {},
     "output_type": "display_data"
    },
    {
     "name": "stderr",
     "output_type": "stream",
     "text": [
      "Block cabdidategraph_extract_edges/0 with read ROI [0:3, 0:15, 0:15, 0:15] (3, 15, 15, 15) and write ROI [0:3, 0:15, 0:15, 0:15] (3, 15, 15, 15) failed in worker 0 with ServerSelectionTimeoutError(\"localhost:27017: [Errno 111] Connection refused, Timeout: 30s, Topology Description: <TopologyDescription id: 6515650bb68e8117f550bb2c, topology_type: Single, servers: [<ServerDescription ('localhost', 27017) server_type: Unknown, rtt: None, error=AutoReconnect('localhost:27017: [Errno 111] Connection refused')>]>\")\n",
      "Block cabdidategraph_extract_edges/1 with read ROI [0:3, 0:15, 0:15, 15:30] (3, 15, 15, 15) and write ROI [0:3, 0:15, 0:15, 15:30] (3, 15, 15, 15) failed in worker 0 with ServerSelectionTimeoutError(\"localhost:27017: [Errno 111] Connection refused, Timeout: 30s, Topology Description: <TopologyDescription id: 65156529b68e8117f550bb2d, topology_type: Single, servers: [<ServerDescription ('localhost', 27017) server_type: Unknown, rtt: None, error=AutoReconnect('localhost:27017: [Errno 111] Connection refused')>]>\")\n",
      "Block cabdidategraph_extract_edges/2 with read ROI [0:3, 0:15, 15:30, 0:15] (3, 15, 15, 15) and write ROI [0:3, 0:15, 15:30, 0:15] (3, 15, 15, 15) failed in worker 0 with ServerSelectionTimeoutError(\"localhost:27017: [Errno 111] Connection refused, Timeout: 30s, Topology Description: <TopologyDescription id: 65156548b68e8117f550bb2e, topology_type: Single, servers: [<ServerDescription ('localhost', 27017) server_type: Unknown, rtt: None, error=AutoReconnect('localhost:27017: [Errno 111] Connection refused')>]>\")\n",
      "Block cabdidategraph_extract_edges/6 with read ROI [0:3, 0:15, 15:30, 15:30] (3, 15, 15, 15) and write ROI [0:3, 0:15, 15:30, 15:30] (3, 15, 15, 15) failed in worker 0 with ServerSelectionTimeoutError(\"localhost:27017: [Errno 111] Connection refused, Timeout: 30s, Topology Description: <TopologyDescription id: 65156566b68e8117f550bb2f, topology_type: Single, servers: [<ServerDescription ('localhost', 27017) server_type: Unknown, rtt: None, error=AutoReconnect('localhost:27017: [Errno 111] Connection refused')>]>\")\n",
      "Worker hostname=192.168.0.122:port=36403:task_id=cabdidategraph_extract_edges:worker_id=0 failed too many times, restarting this worker...\n",
      "Block cabdidategraph_extract_edges/0 with read ROI [0:3, 0:15, 0:15, 0:15] (3, 15, 15, 15) and write ROI [0:3, 0:15, 0:15, 0:15] (3, 15, 15, 15) was lost, returning it to scheduler\n",
      "Block cabdidategraph_extract_edges/1 with read ROI [0:3, 0:15, 0:15, 15:30] (3, 15, 15, 15) and write ROI [0:3, 0:15, 0:15, 15:30] (3, 15, 15, 15) failed in worker 1 with ServerSelectionTimeoutError(\"localhost:27017: [Errno 111] Connection refused, Timeout: 30s, Topology Description: <TopologyDescription id: 651565846990fc8a7350bb2c, topology_type: Single, servers: [<ServerDescription ('localhost', 27017) server_type: Unknown, rtt: None, error=AutoReconnect('localhost:27017: [Errno 111] Connection refused')>]>\")\n"
     ]
    },
    {
     "name": "stdout",
     "output_type": "stream",
     "text": [
      "\n",
      "Execution Summary\n",
      "-----------------\n",
      "\n",
      "  Task cabdidategraph_extract_edges:\n",
      "\n",
      "    num blocks : 4\n",
      "    completed ✔: 0 (skipped 0)\n",
      "    failed    ✗: 0\n",
      "    orphaned  ∅: 0\n",
      "\n",
      "    Failed Blocks:\n",
      "\n",
      "      block 0 in worker 0 with exception ServerSelectionTimeoutError(\"localhost:27017: [Errno 111] Connection refused, Timeout: 30s, Topology Description: <TopologyDescription id: 6515650bb68e8117f550bb2c, topology_type: Single, servers: [<ServerDescription ('localhost', 27017) server_type: Unknown, rtt: None, error=AutoReconnect('localhost:27017: [Errno 111] Connection refused')>]>\")\n",
      "      block 1 in worker 0 with exception ServerSelectionTimeoutError(\"localhost:27017: [Errno 111] Connection refused, Timeout: 30s, Topology Description: <TopologyDescription id: 65156529b68e8117f550bb2d, topology_type: Single, servers: [<ServerDescription ('localhost', 27017) server_type: Unknown, rtt: None, error=AutoReconnect('localhost:27017: [Errno 111] Connection refused')>]>\")\n",
      "      block 2 in worker 0 with exception ServerSelectionTimeoutError(\"localhost:27017: [Errno 111] Connection refused, Timeout: 30s, Topology Description: <TopologyDescription id: 65156548b68e8117f550bb2e, topology_type: Single, servers: [<ServerDescription ('localhost', 27017) server_type: Unknown, rtt: None, error=AutoReconnect('localhost:27017: [Errno 111] Connection refused')>]>\")\n",
      "      block 6 in worker 0 with exception ServerSelectionTimeoutError(\"localhost:27017: [Errno 111] Connection refused, Timeout: 30s, Topology Description: <TopologyDescription id: 65156566b68e8117f550bb2f, topology_type: Single, servers: [<ServerDescription ('localhost', 27017) server_type: Unknown, rtt: None, error=AutoReconnect('localhost:27017: [Errno 111] Connection refused')>]>\")\n",
      "      block 1 in worker 1 with exception ServerSelectionTimeoutError(\"localhost:27017: [Errno 111] Connection refused, Timeout: 30s, Topology Description: <TopologyDescription id: 651565846990fc8a7350bb2c, topology_type: Single, servers: [<ServerDescription ('localhost', 27017) server_type: Unknown, rtt: None, error=AutoReconnect('localhost:27017: [Errno 111] Connection refused')>]>\")\n",
      "\n",
      "    See worker logs for details:\n",
      "\n",
      "      daisy_logs/cabdidategraph_extract_edges/worker_0.err / .out\n",
      "      daisy_logs/cabdidategraph_extract_edges/worker_0.err / .out\n",
      "      daisy_logs/cabdidategraph_extract_edges/worker_0.err / .out\n",
      "      daisy_logs/cabdidategraph_extract_edges/worker_0.err / .out\n",
      "      daisy_logs/cabdidategraph_extract_edges/worker_1.err / .out\n"
     ]
    }
   ],
   "source": [
    "extract_edges_blockwise(config)"
   ]
  },
  {
   "cell_type": "code",
   "execution_count": 17,
   "metadata": {},
   "outputs": [],
   "source": [
    "data = config.inference_data.data_source\n",
    "graph_provider = linajea.utils.CandidateDatabase(data.db_name,\n",
    "                                                config.general.db_host,\n",
    "                                                mode='r+')"
   ]
  },
  {
   "cell_type": "code",
   "execution_count": null,
   "metadata": {},
   "outputs": [],
   "source": []
  },
  {
   "cell_type": "code",
   "execution_count": 49,
   "metadata": {},
   "outputs": [],
   "source": [
    "import daisy\n",
    "extract_roi = daisy.Roi(offset=data.roi.offset,\n",
    "                            shape=data.roi.shape)"
   ]
  },
  {
   "cell_type": "code",
   "execution_count": 66,
   "metadata": {},
   "outputs": [],
   "source": [
    "block_write_roi = daisy.Roi(\n",
    "        (0,)*4,\n",
    "        daisy.Coordinate(config.extract.block_size))\n",
    "\n",
    "    # set thresgold\n",
    "max_edge_move_th = max(config.extract.edge_move_threshold.values())\n",
    "pos_context = daisy.Coordinate((0,) + (max_edge_move_th,)*3)\n",
    "neg_context = daisy.Coordinate((1,) + (max_edge_move_th,)*3)\n",
    "\n",
    "\n",
    "input_roi = extract_roi.grow(neg_context, pos_context)\n",
    "block_read_roi = block_write_roi"
   ]
  },
  {
   "cell_type": "code",
   "execution_count": 67,
   "metadata": {},
   "outputs": [
    {
     "data": {
      "text/plain": [
       "[0:2, 0:4, 0:4, 0:4] (2, 4, 4, 4)"
      ]
     },
     "execution_count": 67,
     "metadata": {},
     "output_type": "execute_result"
    }
   ],
   "source": [
    "block_read_roi"
   ]
  },
  {
   "cell_type": "code",
   "execution_count": null,
   "metadata": {},
   "outputs": [],
   "source": []
  }
 ],
 "metadata": {
  "kernelspec": {
   "display_name": "Python 3 (ipykernel)",
   "language": "python",
   "name": "python3"
  },
  "language_info": {
   "codemirror_mode": {
    "name": "ipython",
    "version": 3
   },
   "file_extension": ".py",
   "mimetype": "text/x-python",
   "name": "python",
   "nbconvert_exporter": "python",
   "pygments_lexer": "ipython3",
   "version": "3.10.12"
  },
  "vscode": {
   "interpreter": {
    "hash": "0633545b934414debe0481e775688adeb220e9d0112d4fa6d23795a6243ccfe4"
   }
  }
 },
 "nbformat": 4,
 "nbformat_minor": 4
}
