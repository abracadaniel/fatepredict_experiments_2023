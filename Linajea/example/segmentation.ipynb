{
 "cells": [
  {
   "cell_type": "code",
   "execution_count": 200,
   "id": "ce71b64e-d481-4823-8014-f0c2b081b38b",
   "metadata": {},
   "outputs": [
    {
     "name": "stdout",
     "output_type": "stream",
     "text": [
      "The autoreload extension is already loaded. To reload it, use:\n",
      "  %reload_ext autoreload\n"
     ]
    }
   ],
   "source": [
    "%load_ext autoreload\n",
    "%autoreload 2"
   ]
  },
  {
   "cell_type": "code",
   "execution_count": 201,
   "id": "e3454825-b2be-44e9-bffd-78f79327b868",
   "metadata": {},
   "outputs": [],
   "source": [
    "import sys\n",
    "sys.path.append('./')\n",
    "sys.path.append('../')"
   ]
  },
  {
   "cell_type": "code",
   "execution_count": 202,
   "id": "2e064d85-0eff-44b8-a0d2-d4402666b38f",
   "metadata": {},
   "outputs": [],
   "source": [
    "from segmentation import * \n",
    "from matplotlib import pyplot as plt"
   ]
  },
  {
   "cell_type": "code",
   "execution_count": 203,
   "id": "fc787d40-93c4-4ca2-93e4-7fbf4fef5eee",
   "metadata": {},
   "outputs": [],
   "source": [
    "z = zarr.open('anno_alice_T2030_tiny_2.zarr', 'a')\n",
    "channel, time, *_ = z['Raw'].shape\n",
    "frag_t = []"
   ]
  },
  {
   "cell_type": "code",
   "execution_count": 204,
   "id": "a88e1229-9d6d-45e5-9bb2-eafce81a6f20",
   "metadata": {},
   "outputs": [],
   "source": [
    "t = 0"
   ]
  },
  {
   "cell_type": "code",
   "execution_count": 230,
   "id": "04fd05f9-abff-4a14-999f-94d7f5347f1d",
   "metadata": {},
   "outputs": [],
   "source": [
    "def get_fragments2(image):\n",
    "    \"\"\"Apply watershed to an image to get (over-)segmentation fragments.\n",
    "\n",
    "    Parameters\n",
    "    ----------\n",
    "    image: array\n",
    "        Boundary prediction image.\n",
    "    \"\"\"\n",
    "    # normalized to 255 can get better watershed output\n",
    "    inputimage = cv2.normalize(image, None, 0, 255, cv2.NORM_MINMAX, cv2.CV_8U)\n",
    "\n",
    "    # watershed algorithm set local minima as seed\n",
    "    minima = mh.regmin(inputimage)\n",
    "    markers, nr_markers = mh.label(minima)\n",
    "    fragments = mh.cwatershed(inputimage, markers, return_lines=False)\n",
    "    fragments = fragments.astype('uint64')\n",
    "\n",
    "    # Do WaterZ\n",
    "    affs = get_affinities(image)\n",
    "    gen = waterz.agglomerate(affs, [0.5], fragments=fragments,\n",
    "                         return_merge_history=False,\n",
    "                         return_region_graph=False)\n",
    "    fragments  = next(gen)\n",
    "    fragments = fragments.astype('uint64')\n",
    "    \n",
    "    return fragments"
   ]
  },
  {
   "cell_type": "code",
   "execution_count": 231,
   "id": "16cc47fe-7551-4490-9c23-6f0e34e77ab9",
   "metadata": {},
   "outputs": [
    {
     "name": "stdout",
     "output_type": "stream",
     "text": [
      "Re-using already compiled waterz version\n",
      "Preparing segmentation volume...\n",
      "counting regions and sizes...\n",
      "creating region graph for 89 nodes\n",
      "creating statistics provider\n",
      "extracting region graph...\n",
      "Region graph number of edges: 370\n",
      "merging until threshold 0.5\n",
      "computing initial scores\n",
      "merging until 0.5\n",
      "min edge score 0.0492454\n",
      "threshold exceeded\n",
      "merged 50 edges\n",
      "extracting segmentation\n",
      "Re-using already compiled waterz version\n",
      "Preparing segmentation volume...\n",
      "counting regions and sizes...\n",
      "creating region graph for 89 nodes\n",
      "creating statistics provider\n",
      "extracting region graph...\n",
      "Region graph number of edges: 129\n",
      "merging until threshold 0\n",
      "computing initial scores\n",
      "merging until 0\n",
      "min edge score 0.512486\n",
      "threshold exceeded\n",
      "merged 0 edges\n",
      "labels: 38\n"
     ]
    }
   ],
   "source": [
    "image = z['Raw'][3, t, :, :, :]\n",
    "affs = get_affinities(image)\n",
    "fragments = get_fragments2(image)\n",
    "#thresholds = [0, 0.5]\n",
    "thresholds = [0, 1]\n",
    "frag_t.append(fragments.copy())\n",
    "gen = waterz.agglomerate(affs, thresholds, fragments=fragments,\n",
    "                         return_merge_history=True,\n",
    "                         return_region_graph=True)\n",
    "# the initial seg is the fragments, with threshold=0\n",
    "segs, _, _ = next(gen)\n",
    "# prevent generator change data in RAM \n",
    "seg = segs.copy()\n",
    "print('labels:', len(np.unique(seg)))\n",
    "# Fragment values in segs starts at 1\n",
    "ids, positions, volumes = segment_stats(fragments, t)\n",
    "z['Fragment_stats/id/'+str(t)] = np.array(ids)\n",
    "z['Fragment_stats/Position/'+str(t)] = np.array(positions)\n",
    "z['Fragment_stats/Volume/'+str(t)] = np.array(volumes)"
   ]
  },
  {
   "cell_type": "code",
   "execution_count": 220,
   "id": "4064f715-7625-4543-82d2-4313d057c9ce",
   "metadata": {},
   "outputs": [
    {
     "name": "stdout",
     "output_type": "stream",
     "text": [
      "merging until threshold 1\n",
      "merging until 1\n",
      "min edge score 0.512486\n",
      "merged 37 edges\n",
      "extracting segmentation\n"
     ]
    }
   ],
   "source": [
    "_, merges, _ = next(gen)"
   ]
  },
  {
   "cell_type": "code",
   "execution_count": 185,
   "id": "cf50bd73-5380-4a44-b33f-5c810ddaea22",
   "metadata": {},
   "outputs": [],
   "source": [
    "def unique_merges(rows):\n",
    "    merged = {}\n",
    "    u_merges = []\n",
    "    \n",
    "    for m in rows:\n",
    "        key = m['b']\n",
    "        if not merged.get(key):\n",
    "            u_merges.append(m)\n",
    "            merged[key] = 1\n",
    "        \n",
    "    return u_merges\n",
    "merges = unique_merges(merges)"
   ]
  },
  {
   "cell_type": "code",
   "execution_count": 221,
   "id": "ce399ae2-a546-41bc-9925-dfebf945f742",
   "metadata": {},
   "outputs": [
    {
     "data": {
      "text/plain": [
       "[{'a': 14, 'b': 16, 'c': 14, 'score': 0.5124858021736145},\n",
       " {'a': 4, 'b': 28, 'c': 4, 'score': 0.5264488458633423},\n",
       " {'a': 14, 'b': 19, 'c': 14, 'score': 0.5339860916137695},\n",
       " {'a': 5, 'b': 10, 'c': 5, 'score': 0.5435411930084229},\n",
       " {'a': 7, 'b': 51, 'c': 7, 'score': 0.5494364500045776},\n",
       " {'a': 45, 'b': 82, 'c': 45, 'score': 0.5684003233909607},\n",
       " {'a': 14, 'b': 15, 'c': 14, 'score': 0.587851881980896},\n",
       " {'a': 11, 'b': 12, 'c': 11, 'score': 0.5932518243789673},\n",
       " {'a': 78, 'b': 79, 'c': 78, 'score': 0.6139891147613525},\n",
       " {'a': 7, 'b': 33, 'c': 7, 'score': 0.6389403939247131},\n",
       " {'a': 4, 'b': 7, 'c': 4, 'score': 0.7017139196395874},\n",
       " {'a': 50, 'b': 59, 'c': 50, 'score': 0.7084683179855347},\n",
       " {'a': 41, 'b': 45, 'c': 41, 'score': 0.7269359827041626},\n",
       " {'a': 56, 'b': 81, 'c': 56, 'score': 0.7339800596237183},\n",
       " {'a': 13, 'b': 24, 'c': 13, 'score': 0.7472824454307556},\n",
       " {'a': 2, 'b': 4, 'c': 2, 'score': 0.7526383996009827},\n",
       " {'a': 14, 'b': 39, 'c': 14, 'score': 0.7529534101486206},\n",
       " {'a': 2, 'b': 11, 'c': 2, 'score': 0.7532625794410706},\n",
       " {'a': 5, 'b': 41, 'c': 5, 'score': 0.7537063956260681},\n",
       " {'a': 5, 'b': 78, 'c': 5, 'score': 0.7622800469398499},\n",
       " {'a': 5, 'b': 14, 'c': 5, 'score': 0.7722362279891968},\n",
       " {'a': 2, 'b': 21, 'c': 2, 'score': 0.7812731266021729},\n",
       " {'a': 2, 'b': 13, 'c': 2, 'score': 0.7827096581459045},\n",
       " {'a': 17, 'b': 18, 'c': 17, 'score': 0.7837638854980469},\n",
       " {'a': 50, 'b': 77, 'c': 50, 'score': 0.7948706150054932},\n",
       " {'a': 17, 'b': 50, 'c': 17, 'score': 0.7999885082244873},\n",
       " {'a': 66, 'b': 68, 'c': 66, 'score': 0.8046478033065796},\n",
       " {'a': 5, 'b': 17, 'c': 5, 'score': 0.8162757158279419},\n",
       " {'a': 2, 'b': 5, 'c': 2, 'score': 0.8172282576560974},\n",
       " {'a': 2, 'b': 29, 'c': 2, 'score': 0.8331356048583984},\n",
       " {'a': 2, 'b': 66, 'c': 2, 'score': 0.8438154458999634},\n",
       " {'a': 2, 'b': 80, 'c': 2, 'score': 0.8474699258804321},\n",
       " {'a': 2, 'b': 56, 'c': 2, 'score': 0.8521262407302856},\n",
       " {'a': 2, 'b': 27, 'c': 2, 'score': 0.8888329863548279},\n",
       " {'a': 2, 'b': 88, 'c': 2, 'score': 0.9028089642524719},\n",
       " {'a': 2, 'b': 85, 'c': 2, 'score': 0.9043110013008118},\n",
       " {'a': 1, 'b': 2, 'c': 1, 'score': 0.9081573486328125}]"
      ]
     },
     "execution_count": 221,
     "metadata": {},
     "output_type": "execute_result"
    }
   ],
   "source": [
    "merges"
   ]
  },
  {
   "cell_type": "code",
   "execution_count": 222,
   "id": "265cd83c-a084-4502-89c9-e8f85cd3291c",
   "metadata": {},
   "outputs": [
    {
     "data": {
      "image/png": "[encoded data removed]",
      "text/plain": [
       "<Figure size 640x480 with 1 Axes>"
      ]
     },
     "metadata": {},
     "output_type": "display_data"
    }
   ],
   "source": [
    "fig = plt.figure()\n",
    "plt.imshow(segs[10])\n",
    "plt.show()"
   ]
  },
  {
   "cell_type": "code",
   "execution_count": 223,
   "id": "81946b74-a4cb-4f07-9ee0-862952914d8c",
   "metadata": {},
   "outputs": [
    {
     "data": {
      "image/png": "[encoded data removed]",
      "text/plain": [
       "<Figure size 640x480 with 1 Axes>"
      ]
     },
     "metadata": {},
     "output_type": "display_data"
    }
   ],
   "source": [
    "fig = plt.figure()\n",
    "plt.imshow(seg[10])\n",
    "plt.show()"
   ]
  },
  {
   "cell_type": "code",
   "execution_count": 224,
   "id": "c4d5255d-b5e6-4c13-9b6c-b2d2c922adb7",
   "metadata": {},
   "outputs": [
    {
     "data": {
      "text/plain": [
       "38"
      ]
     },
     "execution_count": 224,
     "metadata": {},
     "output_type": "execute_result"
    }
   ],
   "source": [
    "len(np.unique(seg))"
   ]
  },
  {
   "cell_type": "code",
   "execution_count": 225,
   "id": "e4bc5112-c806-437c-8389-c085bea374e2",
   "metadata": {},
   "outputs": [],
   "source": [
    "def merged_position(fragments, a, b, t):\n",
    "    \"\"\"\n",
    "    Merge 'a' and 'b' into 'w'\n",
    "\n",
    "    return a center point: tuple float\n",
    "    \"\"\"\n",
    "    merge_mask = np.zeros((fragments.shape), dtype='int')\n",
    "    merge_mask[seg == a] = 1\n",
    "    merge_mask[seg == b] = 1\n",
    "    region = regionprops(merge_mask)\n",
    "    z, y, x = region[0].centroid\n",
    "    position = (t, int(z), int(y), int(x))\n",
    "    # TODO shifting bits can be set by parameter.\n",
    "    id = encode64((t, int(z), int(y), int(x), int(region[0].area)),bits=[9,12,12,12,19])\n",
    "    return id, position, region[0].area\n",
    "\n",
    "def mask(img, label):\n",
    "    mask = np.zeros((img.shape), dtype='int')\n",
    "    mask[img == label] = 1\n",
    "    return mask"
   ]
  },
  {
   "cell_type": "code",
   "execution_count": 226,
   "id": "0ce52372-caf5-40f2-802d-af5aea6cd628",
   "metadata": {},
   "outputs": [],
   "source": [
    "merge_tree = np.empty((len(merges), 3), dtype=np.uint64)\n",
    "merge_scores = np.empty((len(merges),))\n",
    "# Separately store the stats for the whole merge tree!\n",
    "merge_positions = {} \n",
    "merge_volumes = {}\n",
    "merge_parents = {}"
   ]
  },
  {
   "cell_type": "code",
   "execution_count": 227,
   "id": "af8efd84-63c1-46a0-813c-4ab89adc9ba4",
   "metadata": {},
   "outputs": [
    {
     "data": {
      "text/plain": [
       "array([[0, 0, 0],\n",
       "       [0, 0, 0],\n",
       "       [0, 0, 0],\n",
       "       [0, 0, 0],\n",
       "       [0, 0, 0],\n",
       "       [0, 0, 0],\n",
       "       [0, 0, 0],\n",
       "       [0, 0, 0],\n",
       "       [0, 0, 0],\n",
       "       [0, 0, 0],\n",
       "       [0, 0, 0],\n",
       "       [0, 0, 0],\n",
       "       [0, 0, 0],\n",
       "       [0, 0, 0],\n",
       "       [0, 0, 0],\n",
       "       [0, 0, 0],\n",
       "       [0, 0, 0],\n",
       "       [0, 0, 0],\n",
       "       [0, 0, 0],\n",
       "       [0, 0, 0],\n",
       "       [0, 0, 0],\n",
       "       [0, 0, 0],\n",
       "       [0, 0, 0],\n",
       "       [0, 0, 0],\n",
       "       [0, 0, 0],\n",
       "       [0, 0, 0],\n",
       "       [0, 0, 0],\n",
       "       [0, 0, 0],\n",
       "       [0, 0, 0],\n",
       "       [0, 0, 0],\n",
       "       [0, 0, 0],\n",
       "       [0, 0, 0],\n",
       "       [0, 0, 0],\n",
       "       [0, 0, 0],\n",
       "       [0, 0, 0],\n",
       "       [0, 0, 0],\n",
       "       [0, 0, 0]], dtype=uint64)"
      ]
     },
     "execution_count": 227,
     "metadata": {},
     "output_type": "execute_result"
    }
   ],
   "source": [
    "merge_tree"
   ]
  },
  {
   "cell_type": "code",
   "execution_count": 228,
   "id": "6127088f-fdd7-4c58-b863-e78de5786213",
   "metadata": {},
   "outputs": [
    {
     "name": "stdout",
     "output_type": "stream",
     "text": [
      "- merges: 0 / 37\n",
      "{'a': 14, 'b': 16, 'c': 14, 'score': 0.5124858021736145}\n",
      "- merges: 1 / 37\n",
      "{'a': 4, 'b': 28, 'c': 4, 'score': 0.5264488458633423}\n",
      "- merges: 2 / 37\n",
      "{'a': 14, 'b': 19, 'c': 14, 'score': 0.5339860916137695}\n",
      "- merges: 3 / 37\n",
      "{'a': 5, 'b': 10, 'c': 5, 'score': 0.5435411930084229}\n",
      "- merges: 4 / 37\n",
      "{'a': 7, 'b': 51, 'c': 7, 'score': 0.5494364500045776}\n",
      "- merges: 5 / 37\n",
      "{'a': 45, 'b': 82, 'c': 45, 'score': 0.5684003233909607}\n",
      "- merges: 6 / 37\n",
      "{'a': 14, 'b': 15, 'c': 14, 'score': 0.587851881980896}\n",
      "- merges: 7 / 37\n",
      "{'a': 11, 'b': 12, 'c': 11, 'score': 0.5932518243789673}\n",
      "- merges: 8 / 37\n",
      "{'a': 78, 'b': 79, 'c': 78, 'score': 0.6139891147613525}\n",
      "- merges: 9 / 37\n",
      "{'a': 7, 'b': 33, 'c': 7, 'score': 0.6389403939247131}\n",
      "- merges: 10 / 37\n",
      "{'a': 4, 'b': 7, 'c': 4, 'score': 0.7017139196395874}\n",
      "- merges: 11 / 37\n",
      "{'a': 50, 'b': 59, 'c': 50, 'score': 0.7084683179855347}\n",
      "- merges: 12 / 37\n",
      "{'a': 41, 'b': 45, 'c': 41, 'score': 0.7269359827041626}\n",
      "- merges: 13 / 37\n",
      "{'a': 56, 'b': 81, 'c': 56, 'score': 0.7339800596237183}\n",
      "- merges: 14 / 37\n",
      "{'a': 13, 'b': 24, 'c': 13, 'score': 0.7472824454307556}\n",
      "- merges: 15 / 37\n",
      "{'a': 2, 'b': 4, 'c': 2, 'score': 0.7526383996009827}\n",
      "- merges: 16 / 37\n",
      "{'a': 14, 'b': 39, 'c': 14, 'score': 0.7529534101486206}\n",
      "- merges: 17 / 37\n",
      "{'a': 2, 'b': 11, 'c': 2, 'score': 0.7532625794410706}\n",
      "- merges: 18 / 37\n",
      "{'a': 5, 'b': 41, 'c': 5, 'score': 0.7537063956260681}\n",
      "- merges: 19 / 37\n",
      "{'a': 5, 'b': 78, 'c': 5, 'score': 0.7622800469398499}\n",
      "- merges: 20 / 37\n",
      "{'a': 5, 'b': 14, 'c': 5, 'score': 0.7722362279891968}\n",
      "- merges: 21 / 37\n",
      "{'a': 2, 'b': 21, 'c': 2, 'score': 0.7812731266021729}\n",
      "- merges: 22 / 37\n",
      "{'a': 2, 'b': 13, 'c': 2, 'score': 0.7827096581459045}\n",
      "- merges: 23 / 37\n",
      "{'a': 17, 'b': 18, 'c': 17, 'score': 0.7837638854980469}\n",
      "- merges: 24 / 37\n",
      "{'a': 50, 'b': 77, 'c': 50, 'score': 0.7948706150054932}\n",
      "- merges: 25 / 37\n",
      "{'a': 17, 'b': 50, 'c': 17, 'score': 0.7999885082244873}\n",
      "- merges: 26 / 37\n",
      "{'a': 66, 'b': 68, 'c': 66, 'score': 0.8046478033065796}\n",
      "- merges: 27 / 37\n",
      "{'a': 5, 'b': 17, 'c': 5, 'score': 0.8162757158279419}\n",
      "- merges: 28 / 37\n",
      "{'a': 2, 'b': 5, 'c': 2, 'score': 0.8172282576560974}\n",
      "- merges: 29 / 37\n",
      "{'a': 2, 'b': 29, 'c': 2, 'score': 0.8331356048583984}\n",
      "- merges: 30 / 37\n",
      "{'a': 2, 'b': 66, 'c': 2, 'score': 0.8438154458999634}\n",
      "- merges: 31 / 37\n",
      "{'a': 2, 'b': 80, 'c': 2, 'score': 0.8474699258804321}\n",
      "- merges: 32 / 37\n",
      "{'a': 2, 'b': 56, 'c': 2, 'score': 0.8521262407302856}\n",
      "- merges: 33 / 37\n",
      "{'a': 2, 'b': 27, 'c': 2, 'score': 0.8888329863548279}\n",
      "- merges: 34 / 37\n",
      "{'a': 2, 'b': 88, 'c': 2, 'score': 0.9028089642524719}\n",
      "- merges: 35 / 37\n",
      "{'a': 2, 'b': 85, 'c': 2, 'score': 0.9043110013008118}\n",
      "- merges: 36 / 37\n",
      "{'a': 1, 'b': 2, 'c': 1, 'score': 0.9081573486328125}\n"
     ]
    }
   ],
   "source": [
    "for i, merge in enumerate(merges):\n",
    "    #merge = merges[0]\n",
    "    print('- merges: %s / %s' % (i, len(merges)))\n",
    "    print(merge)\n",
    "    a, b, c = merge['a'], merge['b'], merge['c']\n",
    "    score = merge['score']\n",
    "    \n",
    "    f_u = mask(seg, a)\n",
    "    u, pos_u, vol_u = merge_stats(f_u, t)\n",
    "    f_v = mask(seg, b)\n",
    "    v, pos_v, vol_v = merge_stats(f_v, t)\n",
    "\n",
    "    # Create the merged node\n",
    "    w, pos_w, vol_w = merged_position(seg, a, b, t)  # index+1 = label\n",
    "    # merge a,b in to a\n",
    "    seg[seg == b] = a\n",
    "    # Add to merge tree\n",
    "    merge_tree[i] = u, v, w\n",
    "    merge_scores[i] = score\n",
    "    # Add to merge stats\n",
    "    merge_volumes.update({u: vol_u, v: vol_v, w: vol_w})\n",
    "    merge_parents.update({u: w, v: w, w: w})\n",
    "    merge_positions.update({u: pos_u, v: pos_v, w: pos_w})"
   ]
  },
  {
   "cell_type": "code",
   "execution_count": 229,
   "id": "7c8bbfe7-1760-4b06-8b50-79585367886c",
   "metadata": {},
   "outputs": [
    {
     "data": {
      "text/plain": [
       "array([[   809283545464832,   4925855092441088,   5735095648387072],\n",
       "       [  2427936428785664,   9112975713503232,  11540697387632128],\n",
       "       [  5735095648387072,    633344526123008,   6368414345986048],\n",
       "       [ 13757115273314816,    422255446196224,  14179327740477952],\n",
       "       [ 53234143984617984,   6333384552877056,  59567330958510592],\n",
       "       [ 29132694457684992,    809352231393792,  29941943605663232],\n",
       "       [  6368414345986048,   1477820981182464,   7846157973716992],\n",
       "       [  1161256111177728,    457551493726208,   1618652948332544],\n",
       "       [   387045272852992,   1020424099994112,   1407435013102080],\n",
       "       [ 59567330958510592,   4538973003186688,  64106114955872768],\n",
       "       [ 11540697387632128,  64106114955872768,  75646597586749440],\n",
       "       [ 16009121278988800,  25860668156548096,  41869591816705024],\n",
       "       [104814296025797120,  29941943605663232, 134756196667101696],\n",
       "       [ 25332893939143680,    105767864638464,  25438447055410176],\n",
       "       [  1196500614905856,   9148168692303872,  10344437345420800],\n",
       "       [  2603798155493376,  75646597586749440,  78250241121323008],\n",
       "       [  7846157973716992,  17170025173486080,  25016140147197952],\n",
       "       [ 78250241121323008,   1618652948332544,  79868722237409280],\n",
       "       [ 14179327740477952, 134756196667101696, 148935498618900480],\n",
       "       [148935498618900480,   1407435013102080, 150342873500356608],\n",
       "       [150342873500356608,  25016140147197952, 175358962059710464],\n",
       "       [ 79868722237409280,  68996673946256896, 148865241541773312],\n",
       "       [148865241541773312,  10344437345420800, 159209446935889920],\n",
       "       [ 13722119915438592,   7599936094863872,  21321901339050496],\n",
       "       [ 41869591816705024,   2990757585623040,  44860254854321152],\n",
       "       [ 21321901339050496,  44860254854321152,  66181984340151808],\n",
       "       [   950218593931776,  30716163012958208,  31666141059356672],\n",
       "       [175358962059710464,  66181984340151808, 241540800324833280],\n",
       "       [159209446935889920, 241540800324833280, 400750118382341120],\n",
       "       [400750118382341120,   9746079706777088, 410496180861012992],\n",
       "       [410496180861012992,  31666141059356672, 442162124330896384],\n",
       "       [442162124330896384,    140849157511680, 442302861819251712],\n",
       "       [442302861819251712,  25438447055410176, 467741162837380608],\n",
       "       [467741162837380608,   5453646393247232, 473194740511149568],\n",
       "       [473194740511149568,    387028149606912, 473581768604126720],\n",
       "       [473581768604126720,     35321834118144, 473616952976215552],\n",
       "       [  1372199103496704, 473616952976215552, 474989143487680000]],\n",
       "      dtype=uint64)"
      ]
     },
     "execution_count": 229,
     "metadata": {},
     "output_type": "execute_result"
    }
   ],
   "source": [
    "merge_tree"
   ]
  },
  {
   "cell_type": "code",
   "execution_count": 90,
   "id": "e49f2191-3c17-4666-a99a-e045eaa9160f",
   "metadata": {},
   "outputs": [
    {
     "data": {
      "text/plain": [
       "(0, 0, 1, 18)"
      ]
     },
     "execution_count": 90,
     "metadata": {},
     "output_type": "execute_result"
    }
   ],
   "source": [
    "pos_v"
   ]
  },
  {
   "cell_type": "code",
   "execution_count": 91,
   "id": "548e142b-d186-4175-a167-f2ea643729f0",
   "metadata": {},
   "outputs": [
    {
     "data": {
      "text/plain": [
       "74.0"
      ]
     },
     "execution_count": 91,
     "metadata": {},
     "output_type": "execute_result"
    }
   ],
   "source": [
    "vol_v"
   ]
  },
  {
   "cell_type": "code",
   "execution_count": null,
   "id": "d38d9c42-ba43-469c-a6be-d62afa7374dc",
   "metadata": {},
   "outputs": [],
   "source": []
  }
 ],
 "metadata": {
  "kernelspec": {
   "display_name": "Python 3 (ipykernel)",
   "language": "python",
   "name": "python3"
  },
  "language_info": {
   "codemirror_mode": {
    "name": "ipython",
    "version": 3
   },
   "file_extension": ".py",
   "mimetype": "text/x-python",
   "name": "python",
   "nbconvert_exporter": "python",
   "pygments_lexer": "ipython3",
   "version": "3.10.12"
  }
 },
 "nbformat": 4,
 "nbformat_minor": 5
}
