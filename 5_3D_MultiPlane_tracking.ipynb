{
 "cells": [
  {
   "cell_type": "code",
   "execution_count": 1,
   "id": "a681527a-d969-4e40-b2d9-27663789f59c",
   "metadata": {
    "tags": []
   },
   "outputs": [],
   "source": [
    "%load_ext autoreload\n",
    "%autoreload 2\n",
    "#%matplotlib widget\n",
    "\n",
    "import numpy as np\n",
    "from scipy import ndimage\n",
    "from matplotlib import pyplot as plt\n",
    "from ipywidgets import interact, interactive, IntSlider, Layout, interact_manual, fixed\n",
    "import ipywidgets as widgets\n",
    "from IPython.display import display\n",
    "import h5py\n",
    "from glob import glob\n",
    "import numpy as np\n",
    "from csbdeep.utils import Path, normalize\n",
    "from tqdm import tqdm\n",
    "import stardistwrapper as sdw\n",
    "from trackers import *"
   ]
  },
  {
   "cell_type": "markdown",
   "id": "7df7f596-3850-4f97-ae03-4be623ceaa3d",
   "metadata": {},
   "source": [
    "# 3D Tracking using 3D Instance segmentation + 2D tracking + combining\n",
    "\n",
    "Combine Best instance segmentation (WaterZ) + 2D tracker to track in 3D\n",
    "- 1. Do instance segmentation\n",
    "- 2. Process slices instances for 2D tracking (Erosion)\n",
    "- 3. Generate tracks for instances in 2D\n",
    "- 4. Combine 3D instances with 2D tracks \n",
    "\n",
    "Different 2D+T trackers can be used in Step2 "
   ]
  },
  {
   "cell_type": "markdown",
   "id": "2f5ff2f6-5e4b-46f3-a187-3093d0a111ac",
   "metadata": {},
   "source": [
    "## Load data"
   ]
  },
  {
   "cell_type": "code",
   "execution_count": 7,
   "id": "22b240c8-c48e-4eaf-b0df-4bf193445871",
   "metadata": {
    "tags": []
   },
   "outputs": [],
   "source": [
    "import h5py\n",
    "\n",
    "path = 'data/GT/'\n",
    "f = h5py.File(path+'GT_TrackID.h5','r+') # Track file\n",
    "gt_track = f['image'][:]\n",
    "f.close()\n",
    "\n",
    "f = h5py.File(path+'Plantseg_T29-39.h5','r+') # PlantSeg file\n",
    "plantseg = f['image'][:]\n",
    "f.close()"
   ]
  },
  {
   "cell_type": "markdown",
   "id": "ec093e66-3d77-4c67-aa0b-a45d08c8ef2c",
   "metadata": {
    "tags": []
   },
   "source": [
    "## Instance segmentation\n",
    "Using WaterZ, as that has shown be have highest accuracy"
   ]
  },
  {
   "cell_type": "code",
   "execution_count": 3,
   "id": "f0a6b822-43d8-4604-be74-758873a313e4",
   "metadata": {
    "tags": []
   },
   "outputs": [
    {
     "name": "stdout",
     "output_type": "stream",
     "text": [
      "Re-using already compiled waterz version\n",
      "Preparing segmentation volume...\n",
      "counting regions and sizes...\n",
      "creating region graph for 484 nodes\n",
      "creating statistics provider\n",
      "extracting region graph...\n",
      "Region graph number of edges: 2159\n",
      "merging until threshold 0.55\n",
      "computing initial scores\n",
      "merging until 0.55\n",
      "min edge score 0.0129592\n",
      "threshold exceeded\n",
      "merged 285 edges\n",
      "extracting segmentation\n",
      "Re-using already compiled waterz version\n",
      "Preparing segmentation volume...\n",
      "counting regions and sizes...\n",
      "creating region graph for 433 nodes\n",
      "creating statistics provider\n",
      "extracting region graph...\n",
      "Region graph number of edges: 1895\n",
      "merging until threshold 0.55\n",
      "computing initial scores\n",
      "merging until 0.55\n",
      "min edge score 0.0478849\n",
      "threshold exceeded\n",
      "merged 249 edges\n",
      "extracting segmentation\n",
      "Re-using already compiled waterz version\n",
      "Preparing segmentation volume...\n",
      "counting regions and sizes...\n",
      "creating region graph for 460 nodes\n",
      "creating statistics provider\n",
      "extracting region graph...\n",
      "Region graph number of edges: 2027\n",
      "merging until threshold 0.55\n",
      "computing initial scores\n",
      "merging until 0.55\n",
      "min edge score 0.00499254\n",
      "threshold exceeded\n",
      "merged 267 edges\n",
      "extracting segmentation\n",
      "Re-using already compiled waterz version\n",
      "Preparing segmentation volume...\n",
      "counting regions and sizes...\n",
      "creating region graph for 455 nodes\n",
      "creating statistics provider\n",
      "extracting region graph...\n",
      "Region graph number of edges: 2029\n",
      "merging until threshold 0.55\n",
      "computing initial scores\n",
      "merging until 0.55\n",
      "min edge score 0.0811332\n",
      "threshold exceeded\n",
      "merged 266 edges\n",
      "extracting segmentation\n",
      "Re-using already compiled waterz version\n",
      "Preparing segmentation volume...\n",
      "counting regions and sizes...\n",
      "creating region graph for 435 nodes\n",
      "creating statistics provider\n",
      "extracting region graph...\n",
      "Region graph number of edges: 1971\n",
      "merging until threshold 0.55\n",
      "computing initial scores\n",
      "merging until 0.55\n",
      "min edge score 0.0438583\n",
      "threshold exceeded\n",
      "merged 250 edges\n",
      "extracting segmentation\n",
      "Re-using already compiled waterz version\n",
      "Preparing segmentation volume...\n",
      "counting regions and sizes...\n",
      "creating region graph for 402 nodes\n",
      "creating statistics provider\n",
      "extracting region graph...\n",
      "Region graph number of edges: 1806\n",
      "merging until threshold 0.55\n",
      "computing initial scores\n",
      "merging until 0.55\n",
      "min edge score 0.0425958\n",
      "threshold exceeded\n",
      "merged 241 edges\n",
      "extracting segmentation\n",
      "Re-using already compiled waterz version\n",
      "Preparing segmentation volume...\n",
      "counting regions and sizes...\n",
      "creating region graph for 424 nodes\n",
      "creating statistics provider\n",
      "extracting region graph...\n",
      "Region graph number of edges: 1907\n",
      "merging until threshold 0.55\n",
      "computing initial scores\n",
      "merging until 0.55\n",
      "min edge score 0.0107723\n",
      "threshold exceeded\n",
      "merged 230 edges\n",
      "extracting segmentation\n",
      "Re-using already compiled waterz version\n",
      "Preparing segmentation volume...\n",
      "counting regions and sizes...\n",
      "creating region graph for 436 nodes\n",
      "creating statistics provider\n",
      "extracting region graph...\n",
      "Region graph number of edges: 1898\n",
      "merging until threshold 0.55\n",
      "computing initial scores\n",
      "merging until 0.55\n",
      "min edge score 0.0631833\n",
      "threshold exceeded\n",
      "merged 250 edges\n",
      "extracting segmentation\n",
      "Re-using already compiled waterz version\n",
      "Preparing segmentation volume...\n",
      "counting regions and sizes...\n",
      "creating region graph for 451 nodes\n",
      "creating statistics provider\n",
      "extracting region graph...\n",
      "Region graph number of edges: 2001\n",
      "merging until threshold 0.55\n",
      "computing initial scores\n",
      "merging until 0.55\n",
      "min edge score 0.0330241\n",
      "threshold exceeded\n",
      "merged 263 edges\n",
      "extracting segmentation\n",
      "Re-using already compiled waterz version\n",
      "Preparing segmentation volume...\n",
      "counting regions and sizes...\n",
      "creating region graph for 487 nodes\n",
      "creating statistics provider\n",
      "extracting region graph...\n",
      "Region graph number of edges: 2179\n",
      "merging until threshold 0.55\n",
      "computing initial scores\n",
      "merging until 0.55\n",
      "min edge score 0.0187402\n",
      "threshold exceeded\n",
      "merged 275 edges\n",
      "extracting segmentation\n",
      "Re-using already compiled waterz version\n",
      "Preparing segmentation volume...\n",
      "counting regions and sizes...\n",
      "creating region graph for 459 nodes\n",
      "creating statistics provider\n",
      "extracting region graph...\n",
      "Region graph number of edges: 2037\n",
      "merging until threshold 0.55\n",
      "computing initial scores\n",
      "merging until 0.55\n",
      "min edge score 0.0127566\n",
      "threshold exceeded\n",
      "merged 265 edges\n",
      "extracting segmentation\n"
     ]
    }
   ],
   "source": [
    "max_t, max_z, *_ = plantseg.shape\n",
    "kernel = np.ones((1, 3, 3), np.uint8) # Erode Z,Y,X\n",
    "\n",
    "predicted_fragments = np.zeros(plantseg.shape)\n",
    "eroded_fragments = np.zeros(plantseg.shape)\n",
    "for t in range(max_t):\n",
    "    _f = get_fragments(plantseg[t], 0.55)\n",
    "    \n",
    "    _f2 = np.zeros(_f.shape, dtype=np.int64)\n",
    "    \n",
    "    # Erode X,Y axis\n",
    "    for g in np.unique(_f):\n",
    "        _mask = mask(_f, g)\n",
    "        _mask2 = ndimage.binary_erosion(_mask, structure=kernel)\n",
    "        _f2 = _f2 + _mask2*g\n",
    "    \n",
    "    predicted_fragments[t] = _f\n",
    "    eroded_fragments[t] = _f2"
   ]
  },
  {
   "cell_type": "markdown",
   "id": "68871cbb-c8fa-4dc9-8cdf-9a7f9ad323b0",
   "metadata": {},
   "source": [
    "### Prepare for 2D tracking\n",
    "Transform to Z,T,Y,X"
   ]
  },
  {
   "cell_type": "code",
   "execution_count": 6,
   "id": "22359f11-bb53-40c0-9d64-f569f779a125",
   "metadata": {
    "tags": []
   },
   "outputs": [],
   "source": [
    "binary_z_slices = np.where(eroded_fragments.transpose((1,0,2,3)) > 0, 1, 0) \n",
    "binary_z_slices = normalize(binary_z_slices, 1, 99.8)"
   ]
  },
  {
   "cell_type": "code",
   "execution_count": 5,
   "id": "2cc21648-a0c2-4c88-ba66-46323cb79528",
   "metadata": {
    "tags": []
   },
   "outputs": [
    {
     "data": {
      "image/png": "[encoded data removed]",
      "text/plain": [
       "<Figure size 640x480 with 1 Axes>"
      ]
     },
     "metadata": {},
     "output_type": "display_data"
    }
   ],
   "source": [
    "plt.figure()\n",
    "plt.imshow(binary_z_slices[10,0])\n",
    "plt.show()"
   ]
  },
  {
   "cell_type": "markdown",
   "id": "bb6754c3-dc33-42e4-b640-f7a08f4db8ec",
   "metadata": {},
   "source": [
    "## Track 2D slices"
   ]
  },
  {
   "cell_type": "code",
   "execution_count": 8,
   "id": "f94c077a-4cab-488b-aa29-5b671e8ec624",
   "metadata": {
    "tags": []
   },
   "outputs": [
    {
     "name": "stderr",
     "output_type": "stream",
     "text": [
      "2023-12-03 18:34:12.482610: I external/local_xla/xla/stream_executor/cuda/cuda_executor.cc:901] successful NUMA node read from SysFS had negative value (-1), but there must be at least one NUMA node, so returning NUMA node zero. See more at https://github.com/torvalds/linux/blob/v6.0/Documentation/ABI/testing/sysfs-bus-pci#L344-L355\n",
      "2023-12-03 18:34:12.522239: I external/local_xla/xla/stream_executor/cuda/cuda_executor.cc:901] successful NUMA node read from SysFS had negative value (-1), but there must be at least one NUMA node, so returning NUMA node zero. See more at https://github.com/torvalds/linux/blob/v6.0/Documentation/ABI/testing/sysfs-bus-pci#L344-L355\n",
      "2023-12-03 18:34:12.525280: I external/local_xla/xla/stream_executor/cuda/cuda_executor.cc:901] successful NUMA node read from SysFS had negative value (-1), but there must be at least one NUMA node, so returning NUMA node zero. See more at https://github.com/torvalds/linux/blob/v6.0/Documentation/ABI/testing/sysfs-bus-pci#L344-L355\n",
      "2023-12-03 18:34:12.529771: I external/local_xla/xla/stream_executor/cuda/cuda_executor.cc:901] successful NUMA node read from SysFS had negative value (-1), but there must be at least one NUMA node, so returning NUMA node zero. See more at https://github.com/torvalds/linux/blob/v6.0/Documentation/ABI/testing/sysfs-bus-pci#L344-L355\n",
      "2023-12-03 18:34:12.532626: I external/local_xla/xla/stream_executor/cuda/cuda_executor.cc:901] successful NUMA node read from SysFS had negative value (-1), but there must be at least one NUMA node, so returning NUMA node zero. See more at https://github.com/torvalds/linux/blob/v6.0/Documentation/ABI/testing/sysfs-bus-pci#L344-L355\n",
      "2023-12-03 18:34:12.535307: I external/local_xla/xla/stream_executor/cuda/cuda_executor.cc:901] successful NUMA node read from SysFS had negative value (-1), but there must be at least one NUMA node, so returning NUMA node zero. See more at https://github.com/torvalds/linux/blob/v6.0/Documentation/ABI/testing/sysfs-bus-pci#L344-L355\n",
      "2023-12-03 18:34:14.193219: I external/local_xla/xla/stream_executor/cuda/cuda_executor.cc:901] successful NUMA node read from SysFS had negative value (-1), but there must be at least one NUMA node, so returning NUMA node zero. See more at https://github.com/torvalds/linux/blob/v6.0/Documentation/ABI/testing/sysfs-bus-pci#L344-L355\n",
      "2023-12-03 18:34:14.195176: I external/local_xla/xla/stream_executor/cuda/cuda_executor.cc:901] successful NUMA node read from SysFS had negative value (-1), but there must be at least one NUMA node, so returning NUMA node zero. See more at https://github.com/torvalds/linux/blob/v6.0/Documentation/ABI/testing/sysfs-bus-pci#L344-L355\n",
      "2023-12-03 18:34:14.196900: I external/local_xla/xla/stream_executor/cuda/cuda_executor.cc:901] successful NUMA node read from SysFS had negative value (-1), but there must be at least one NUMA node, so returning NUMA node zero. See more at https://github.com/torvalds/linux/blob/v6.0/Documentation/ABI/testing/sysfs-bus-pci#L344-L355\n",
      "2023-12-03 18:34:14.198592: I tensorflow/core/common_runtime/gpu/gpu_device.cc:1929] Created device /job:localhost/replica:0/task:0/device:GPU:0 with 13589 MB memory:  -> device: 0, name: Tesla T4, pci bus id: 0000:00:04.0, compute capability: 7.5\n"
     ]
    },
    {
     "name": "stdout",
     "output_type": "stream",
     "text": [
      "Loading network weights from 'weights_best.h5'.\n",
      "Couldn't load thresholds from 'thresholds.json', using default values. (Call 'optimize_thresholds' to change that.)\n",
      "Using default values: prob_thresh=0.5, nms_thresh=0.4.\n",
      "Load pretrained stardist model 'fatepredict_temporal_model1' from folder 'stardist_models'\n"
     ]
    }
   ],
   "source": [
    "model_name=\"fatepredict_temporal_model1\"\n",
    "model = sdw.load_stardist_model(model_name=model_name)"
   ]
  },
  {
   "cell_type": "code",
   "execution_count": 9,
   "id": "6adac275-ac22-4a26-b986-65c945be111d",
   "metadata": {
    "tags": []
   },
   "outputs": [
    {
     "name": "stderr",
     "output_type": "stream",
     "text": [
      "2023-12-03 18:34:24.214931: I external/local_xla/xla/stream_executor/cuda/cuda_dnn.cc:454] Loaded cuDNN version 8900\n"
     ]
    },
    {
     "name": "stdout",
     "output_type": "stream",
     "text": [
      "1/1 [==============================] - 5s 5s/step\n",
      "1/1 [==============================] - 0s 26ms/step\n",
      "1/1 [==============================] - 0s 25ms/step\n",
      "1/1 [==============================] - 0s 27ms/step\n",
      "1/1 [==============================] - 0s 24ms/step\n"
     ]
    },
    {
     "name": "stderr",
     "output_type": "stream",
     "text": [
      "\n",
      "Qhull output at end\n",
      "qhull precision warning: \n",
      "The initial hull is narrow (cosine of min. angle is 0.9999999999999991).\n",
      "Is the input lower dimensional (e.g., on a plane in 3-d)?  Qhull may\n",
      "produce a wide facet.  Options 'QbB' (scale to unit box) or 'Qbb' (scale\n",
      "last coordinate) may remove this warning.  Use 'Pp' to skip this warning.\n",
      "See 'Limitations' in qh-impre.htm.\n"
     ]
    },
    {
     "name": "stdout",
     "output_type": "stream",
     "text": [
      "1/1 [==============================] - 0s 25ms/step\n",
      "1/1 [==============================] - 0s 27ms/step\n",
      "1/1 [==============================] - 0s 27ms/step\n",
      "1/1 [==============================] - 0s 24ms/step\n"
     ]
    }
   ],
   "source": [
    "freq = 5\n",
    "predicted_tracks = np.zeros(binary_z_slices.shape)\n",
    "predicted_tracks_i = []\n",
    "for i in range(max_z):\n",
    "    if i%freq == 0:\n",
    "        predicted_tracks[i] = model.predict_instances(binary_z_slices[i], show_tile_progress=False)[0][0]\n",
    "        predicted_tracks_i.append(i)"
   ]
  },
  {
   "cell_type": "markdown",
   "id": "030233dc-affc-4aa4-8a62-1685b9ca4620",
   "metadata": {},
   "source": [
    "### Pickle"
   ]
  },
  {
   "cell_type": "markdown",
   "id": "cf287428-5a35-44ac-b415-7132475175bf",
   "metadata": {},
   "source": [
    "#### Save"
   ]
  },
  {
   "cell_type": "code",
   "execution_count": 16,
   "id": "b1fef729-1442-421e-a181-cc193ef37a75",
   "metadata": {
    "tags": []
   },
   "outputs": [],
   "source": [
    "import pickle\n",
    "pickle.dump({\n",
    "    'predicted_fragments': predicted_fragments,\n",
    "    'eroded_fragments': eroded_fragments,\n",
    "    'binary_z_slices': binary_z_slices,\n",
    "    'predicted_tracks': predicted_tracks,\n",
    "    'predicted_tracks_i': predicted_tracks_i\n",
    "}, open( '5_multiplane_track1_waterz_stardist.pkl', 'wb' ) )"
   ]
  },
  {
   "cell_type": "markdown",
   "id": "20c4975c-eb9c-4022-b091-e46ba186d66b",
   "metadata": {},
   "source": [
    "#### Load"
   ]
  },
  {
   "cell_type": "code",
   "execution_count": 4,
   "id": "a60ee908-cd22-4a52-880c-92db49defb53",
   "metadata": {
    "tags": []
   },
   "outputs": [],
   "source": [
    "import pickle\n",
    "pkl = pickle.load(open('5_multiplane_track1_waterz_stardist.pkl', 'rb'))\n",
    "predicted_fragments = pkl['predicted_fragments']\n",
    "eroded_fragments = pkl['eroded_fragments']\n",
    "binary_z_slices = pkl['binary_z_slices']\n",
    "predicted_tracks = pkl['predicted_tracks']\n",
    "predicted_tracks_i = pkl['predicted_tracks_i']\n",
    "predicted_tracks_orig = deepcopy(predicted_tracks)"
   ]
  },
  {
   "cell_type": "markdown",
   "id": "5950dc8d-f09d-4567-81b9-c568e79751fe",
   "metadata": {},
   "source": [
    "## Visualize tracks"
   ]
  },
  {
   "cell_type": "code",
   "execution_count": 57,
   "id": "92af2d19-e9ba-4739-93c9-ab556c142e34",
   "metadata": {},
   "outputs": [
    {
     "data": {
      "text/plain": [
       "<Labels layer 'Tracks' at 0x2cbff0580>"
      ]
     },
     "execution_count": 57,
     "metadata": {},
     "output_type": "execute_result"
    }
   ],
   "source": [
    "import napari\n",
    "\n",
    "#filter = (Y[0]==39) | (Y[0]==34) | (Y[0]==29) | (Y[0]==25)\n",
    "viewer = napari.Viewer()\n",
    "#viewer.add_labels(Y[0]*filter, name='Labels')\n",
    "viewer.add_image(binary_z_slices[0].astype(int), name='Cells')\n",
    "viewer.add_labels(predicted_tracks[0].astype(int), name='Tracks')"
   ]
  },
  {
   "cell_type": "markdown",
   "id": "bdf471e1-fc59-4144-8a29-280049368b3c",
   "metadata": {},
   "source": [
    "## Combine"
   ]
  },
  {
   "cell_type": "code",
   "execution_count": 5,
   "id": "d35ef2e4-6a91-465e-aaf9-35e81b725632",
   "metadata": {
    "tags": []
   },
   "outputs": [],
   "source": [
    "from skimage.measure import regionprops\n",
    "\n",
    "def pick_match(c,z,t):\n",
    "    y,x = (int(centroid[0]), int(centroid[1]))\n",
    "    return predicted_fragments[t,z,y,x].astype(int)\n",
    "\n",
    "track_id_fragment = {}\n",
    "matching_fragments = []\n",
    "for z in predicted_tracks_i:\n",
    "    _tracks = predicted_tracks[z].astype(int)\n",
    "    _max_t, *_ = _tracks.shape\n",
    "    \n",
    "    track_ids = np.unique(_tracks)\n",
    "    track_ids = track_ids[track_ids != 0].astype(int)\n",
    "\n",
    "    for t in range(_max_t):\n",
    "        #print('t:',t)\n",
    "\n",
    "        _matching_fragments = {}\n",
    "        for tr_id in track_ids:\n",
    "            track = _tracks[t] == tr_id\n",
    "            \n",
    "            if np.sum(track)>0:\n",
    "                #print('- tr_id:', tr_id)\n",
    "                centroid = regionprops(track.astype(int))[0].centroid\n",
    "                f = pick_match(centroid, z, t)\n",
    "\n",
    "                if tr_id2:=_matching_fragments.get(f):\n",
    "                    # Merge current track with matched track (tr_id2)\n",
    "                    _tracks[_tracks == tr_id] = tr_id2\n",
    "                    #print('replacing %s with %s' % (tr_id, tr_id2))\n",
    "                else:\n",
    "                    _matching_fragments[f] = tr_id\n",
    "                    \n",
    "        matching_fragments.append(_matching_fragments)\n",
    "        predicted_tracks[z] = _tracks\n",
    "\n",
    "# assign\n",
    "for i,z in enumerate(predicted_tracks_i):\n",
    "    _matching_fragments = matching_fragments[i]\n",
    "    "
   ]
  },
  {
   "cell_type": "markdown",
   "id": "0107297f-b59c-4335-aa65-3c1d04d920b6",
   "metadata": {},
   "source": [
    "## Visualize merged tracks"
   ]
  },
  {
   "cell_type": "code",
   "execution_count": 48,
   "id": "5eddb44e-4103-4e3e-abf6-46a57b485a97",
   "metadata": {},
   "outputs": [
    {
     "data": {
      "text/plain": [
       "<Labels layer 'StarDist Prediction Merged' at 0x298d3d5b0>"
      ]
     },
     "execution_count": 48,
     "metadata": {},
     "output_type": "execute_result"
    }
   ],
   "source": [
    "import napari\n",
    "viewer = napari.Viewer()\n",
    "\n",
    "viewer.add_labels(gt_track[:, 5], name='GroundTruth')\n",
    "viewer.add_labels(predicted_tracks_orig[0].astype(int), name='StarDist Prediction')\n",
    "viewer.add_labels(predicted_tracks[0].astype(int), name='StarDist Prediction Merged')"
   ]
  },
  {
   "cell_type": "markdown",
   "id": "16206e14-40fa-4849-aa7c-c03de6607a78",
   "metadata": {},
   "source": [
    "## Metrics on merged tracks"
   ]
  },
  {
   "cell_type": "code",
   "execution_count": 10,
   "id": "1306a0b4-b012-4e98-bd94-f099d4efdd85",
   "metadata": {},
   "outputs": [],
   "source": [
    "from trackers import evaluate_hota\n",
    "\n",
    "metrics1, hota = evaluate_hota(gt_track[:, 5, :, :], predicted_tracks_orig[5])\n",
    "metrics2, hota = evaluate_hota(gt_track[:, 5, :, :], predicted_tracks[5])"
   ]
  },
  {
   "cell_type": "code",
   "execution_count": 11,
   "id": "4fccd4a4-b3aa-4144-8281-c28e2ddafd75",
   "metadata": {},
   "outputs": [
    {
     "name": "stdout",
     "output_type": "stream",
     "text": [
      "0.646\n",
      "0.000\n",
      "0.284\n",
      "0.000\n",
      "0.700\n",
      "1.000\n",
      "0.428\n",
      "0.000\n",
      "H@0.75: 0.183\n"
     ]
    }
   ],
   "source": [
    "print('%.3f' % metrics2['AssA'][9])\n",
    "print('%.3f' % metrics2['AssA'][17])\n",
    "print('%.3f' % metrics2['DetA'][9])\n",
    "print('%.3f' % metrics2['DetA'][17])\n",
    "print('%.3f' % metrics2['LocA'][9])\n",
    "print('%.3f' % metrics2['LocA'][17])\n",
    "print('%.3f' % metrics2['HOTA'][9])\n",
    "print('%.3f' % metrics2['HOTA'][17])\n",
    "print('H@0.75: %.3f' % metrics2['HOTA'][14])"
   ]
  },
  {
   "cell_type": "markdown",
   "id": "06fa29c2-e64c-4d92-a77d-a4bfe641c314",
   "metadata": {},
   "source": [
    "## Pickle all metrics"
   ]
  },
  {
   "cell_type": "code",
   "execution_count": 12,
   "id": "a5f567f2-7ef8-455d-9845-f49570e78d46",
   "metadata": {},
   "outputs": [],
   "source": [
    "import pickle\n",
    "pickle.dump({\n",
    "    'stardist_track': metrics1,\n",
    "    'stardist_track_merged': metrics2,\n",
    "    'array_labels': hota.array_labels\n",
    "}, open( '5_all_metrics.pkl', 'wb' ) )"
   ]
  },
  {
   "cell_type": "code",
   "execution_count": null,
   "id": "f6b4c530-6ce0-4f67-b874-d2e610f3ddc5",
   "metadata": {},
   "outputs": [],
   "source": []
  }
 ],
 "metadata": {
  "environment": {
   "kernel": "conda-root-py",
   "name": "workbench-notebooks.m113",
   "type": "gcloud",
   "uri": "gcr.io/deeplearning-platform-release/workbench-notebooks:m113"
  },
  "kernelspec": {
   "display_name": "Python 3 (ipykernel)",
   "language": "python",
   "name": "python3"
  },
  "language_info": {
   "codemirror_mode": {
    "name": "ipython",
    "version": 3
   },
   "file_extension": ".py",
   "mimetype": "text/x-python",
   "name": "python",
   "nbconvert_exporter": "python",
   "pygments_lexer": "ipython3",
   "version": "3.8.18"
  }
 },
 "nbformat": 4,
 "nbformat_minor": 5
}
